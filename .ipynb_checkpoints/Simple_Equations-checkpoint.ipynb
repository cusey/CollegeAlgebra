{
 "cells": [
  {
   "cell_type": "code",
   "execution_count": 20,
   "metadata": {},
   "outputs": [],
   "source": [
    "import sympy as sp\n",
    "sp.init_printing()\n",
    "from sympy import *"
   ]
  },
  {
   "cell_type": "code",
   "execution_count": 21,
   "metadata": {},
   "outputs": [],
   "source": [
    "p1,v1,p2,v2 = sp.symbols('p1,v1,p2,v2')"
   ]
  },
  {
   "cell_type": "markdown",
   "metadata": {},
   "source": [
    "# Subscripts\n",
    "\n",
    "Uses Boyle's Law P<sub>1</sub> V<sub>1</sub> = P<sub>2</sub> P<sub>2</sub> to solve the follow problem. \n",
    "\n",
    "You have a cardboard container that has pressure is 10 psi and volumes is 5 liters. Mike sits on the cardboard container and volume changes to 2 liters. Find the pressure after Mike sits on the cardboard container. "
   ]
  },
  {
   "cell_type": "code",
   "execution_count": 22,
   "metadata": {},
   "outputs": [
    {
     "data": {
      "image/png": "[encoded data removed]",
      "text/latex": [
       "$$\\left [ 25\\right ]$$"
      ],
      "text/plain": [
       "[25]"
      ]
     },
     "execution_count": 22,
     "metadata": {},
     "output_type": "execute_result"
    }
   ],
   "source": [
    "# Before mike sits on the card container\n",
    "p1 = 10\n",
    "v1 = 5\n",
    "\n",
    "# After mike sits on the card container\n",
    "v2 = 2\n",
    "\n",
    "# Boyle's Law\n",
    "eq1 = sp.Eq(p1*v1,p2*v2)\n",
    "\n",
    "sp.solve(eq1,p2)\n",
    "\n"
   ]
  },
  {
   "cell_type": "code",
   "execution_count": null,
   "metadata": {},
   "outputs": [],
   "source": []
  }
 ],
 "metadata": {
  "kernelspec": {
   "display_name": "Python 3",
   "language": "python",
   "name": "python3"
  },
  "language_info": {
   "codemirror_mode": {
    "name": "ipython",
    "version": 3
   },
   "file_extension": ".py",
   "mimetype": "text/x-python",
   "name": "python",
   "nbconvert_exporter": "python",
   "pygments_lexer": "ipython3",
   "version": "3.6.4"
  }
 },
 "nbformat": 4,
 "nbformat_minor": 2
}
